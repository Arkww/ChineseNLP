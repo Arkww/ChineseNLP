{
 "cells": [
  {
   "cell_type": "markdown",
   "metadata": {},
   "source": [
    "# Are the same characters used in Simplified and traditional Chinese news articles ?"
   ]
  },
  {
   "cell_type": "markdown",
   "metadata": {},
   "source": []
  },
  {
   "cell_type": "code",
   "execution_count": 36,
   "metadata": {},
   "outputs": [
    {
     "ename": "ImportError",
     "evalue": "cannot import name 'docstring' from 'matplotlib' (/home/mathieu/.local/lib/python3.10/site-packages/matplotlib/__init__.py)",
     "output_type": "error",
     "traceback": [
      "\u001b[0;31m---------------------------------------------------------------------------\u001b[0m",
      "\u001b[0;31mImportError\u001b[0m                               Traceback (most recent call last)",
      "Cell \u001b[0;32mIn[36], line 9\u001b[0m\n\u001b[1;32m      7\u001b[0m \u001b[38;5;28;01mimport\u001b[39;00m \u001b[38;5;21;01mos\u001b[39;00m\n\u001b[1;32m      8\u001b[0m \u001b[38;5;28;01mimport\u001b[39;00m \u001b[38;5;21;01mstring\u001b[39;00m\n\u001b[0;32m----> 9\u001b[0m \u001b[38;5;28;01mimport\u001b[39;00m \u001b[38;5;21;01mmatplotlib\u001b[39;00m\u001b[38;5;21;01m.\u001b[39;00m\u001b[38;5;21;01mpyplot\u001b[39;00m \u001b[38;5;28;01mas\u001b[39;00m \u001b[38;5;21;01mplt\u001b[39;00m\n",
      "File \u001b[0;32m~/.local/lib/python3.10/site-packages/matplotlib/pyplot.py:66\u001b[0m\n\u001b[1;32m     63\u001b[0m \u001b[38;5;28;01mfrom\u001b[39;00m \u001b[38;5;21;01mmatplotlib\u001b[39;00m \u001b[38;5;28;01mimport\u001b[39;00m _docstring\n\u001b[1;32m     64\u001b[0m \u001b[38;5;28;01mfrom\u001b[39;00m \u001b[38;5;21;01mmatplotlib\u001b[39;00m\u001b[38;5;21;01m.\u001b[39;00m\u001b[38;5;21;01mbackend_bases\u001b[39;00m \u001b[38;5;28;01mimport\u001b[39;00m (\n\u001b[1;32m     65\u001b[0m     FigureCanvasBase, FigureManagerBase, MouseButton)\n\u001b[0;32m---> 66\u001b[0m \u001b[38;5;28;01mfrom\u001b[39;00m \u001b[38;5;21;01mmatplotlib\u001b[39;00m\u001b[38;5;21;01m.\u001b[39;00m\u001b[38;5;21;01mfigure\u001b[39;00m \u001b[38;5;28;01mimport\u001b[39;00m Figure, FigureBase, figaspect\n\u001b[1;32m     67\u001b[0m \u001b[38;5;28;01mfrom\u001b[39;00m \u001b[38;5;21;01mmatplotlib\u001b[39;00m\u001b[38;5;21;01m.\u001b[39;00m\u001b[38;5;21;01mgridspec\u001b[39;00m \u001b[38;5;28;01mimport\u001b[39;00m GridSpec, SubplotSpec\n\u001b[1;32m     68\u001b[0m \u001b[38;5;28;01mfrom\u001b[39;00m \u001b[38;5;21;01mmatplotlib\u001b[39;00m \u001b[38;5;28;01mimport\u001b[39;00m rcsetup, rcParamsDefault, rcParamsOrig\n",
      "File \u001b[0;32m~/.local/lib/python3.10/site-packages/matplotlib/figure.py:43\u001b[0m\n\u001b[1;32m     40\u001b[0m \u001b[38;5;28;01mimport\u001b[39;00m \u001b[38;5;21;01mnumpy\u001b[39;00m \u001b[38;5;28;01mas\u001b[39;00m \u001b[38;5;21;01mnp\u001b[39;00m\n\u001b[1;32m     42\u001b[0m \u001b[38;5;28;01mimport\u001b[39;00m \u001b[38;5;21;01mmatplotlib\u001b[39;00m \u001b[38;5;28;01mas\u001b[39;00m \u001b[38;5;21;01mmpl\u001b[39;00m\n\u001b[0;32m---> 43\u001b[0m \u001b[38;5;28;01mfrom\u001b[39;00m \u001b[38;5;21;01mmatplotlib\u001b[39;00m \u001b[38;5;28;01mimport\u001b[39;00m _blocking_input, backend_bases, _docstring, projections\n\u001b[1;32m     44\u001b[0m \u001b[38;5;28;01mfrom\u001b[39;00m \u001b[38;5;21;01mmatplotlib\u001b[39;00m\u001b[38;5;21;01m.\u001b[39;00m\u001b[38;5;21;01martist\u001b[39;00m \u001b[38;5;28;01mimport\u001b[39;00m (\n\u001b[1;32m     45\u001b[0m     Artist, allow_rasterization, _finalize_rasterization)\n\u001b[1;32m     46\u001b[0m \u001b[38;5;28;01mfrom\u001b[39;00m \u001b[38;5;21;01mmatplotlib\u001b[39;00m\u001b[38;5;21;01m.\u001b[39;00m\u001b[38;5;21;01mbackend_bases\u001b[39;00m \u001b[38;5;28;01mimport\u001b[39;00m (\n\u001b[1;32m     47\u001b[0m     DrawEvent, FigureCanvasBase, NonGuiException, MouseButton, _get_renderer)\n",
      "File \u001b[0;32m~/.local/lib/python3.10/site-packages/matplotlib/projections/__init__.py:58\u001b[0m\n\u001b[1;32m     56\u001b[0m \u001b[38;5;28;01mfrom\u001b[39;00m \u001b[38;5;21;01m.\u001b[39;00m\u001b[38;5;21;01mgeo\u001b[39;00m \u001b[38;5;28;01mimport\u001b[39;00m AitoffAxes, HammerAxes, LambertAxes, MollweideAxes\n\u001b[1;32m     57\u001b[0m \u001b[38;5;28;01mfrom\u001b[39;00m \u001b[38;5;21;01m.\u001b[39;00m\u001b[38;5;21;01mpolar\u001b[39;00m \u001b[38;5;28;01mimport\u001b[39;00m PolarAxes\n\u001b[0;32m---> 58\u001b[0m \u001b[38;5;28;01mfrom\u001b[39;00m \u001b[38;5;21;01mmpl_toolkits\u001b[39;00m\u001b[38;5;21;01m.\u001b[39;00m\u001b[38;5;21;01mmplot3d\u001b[39;00m \u001b[38;5;28;01mimport\u001b[39;00m Axes3D\n\u001b[1;32m     61\u001b[0m \u001b[38;5;28;01mclass\u001b[39;00m \u001b[38;5;21;01mProjectionRegistry\u001b[39;00m:\n\u001b[1;32m     62\u001b[0m     \u001b[38;5;124;03m\"\"\"A mapping of registered projection names to projection classes.\"\"\"\u001b[39;00m\n",
      "File \u001b[0;32m/usr/lib/python3/dist-packages/mpl_toolkits/mplot3d/__init__.py:1\u001b[0m\n\u001b[0;32m----> 1\u001b[0m \u001b[38;5;28;01mfrom\u001b[39;00m \u001b[38;5;21;01m.\u001b[39;00m\u001b[38;5;21;01maxes3d\u001b[39;00m \u001b[38;5;28;01mimport\u001b[39;00m Axes3D\n",
      "File \u001b[0;32m/usr/lib/python3/dist-packages/mpl_toolkits/mplot3d/axes3d.py:23\u001b[0m\n\u001b[1;32m     19\u001b[0m \u001b[38;5;28;01mimport\u001b[39;00m \u001b[38;5;21;01mtextwrap\u001b[39;00m\n\u001b[1;32m     21\u001b[0m \u001b[38;5;28;01mimport\u001b[39;00m \u001b[38;5;21;01mnumpy\u001b[39;00m \u001b[38;5;28;01mas\u001b[39;00m \u001b[38;5;21;01mnp\u001b[39;00m\n\u001b[0;32m---> 23\u001b[0m \u001b[38;5;28;01mfrom\u001b[39;00m \u001b[38;5;21;01mmatplotlib\u001b[39;00m \u001b[38;5;28;01mimport\u001b[39;00m _api, cbook, docstring, _preprocess_data\n\u001b[1;32m     24\u001b[0m \u001b[38;5;28;01mimport\u001b[39;00m \u001b[38;5;21;01mmatplotlib\u001b[39;00m\u001b[38;5;21;01m.\u001b[39;00m\u001b[38;5;21;01martist\u001b[39;00m \u001b[38;5;28;01mas\u001b[39;00m \u001b[38;5;21;01mmartist\u001b[39;00m\n\u001b[1;32m     25\u001b[0m \u001b[38;5;28;01mimport\u001b[39;00m \u001b[38;5;21;01mmatplotlib\u001b[39;00m\u001b[38;5;21;01m.\u001b[39;00m\u001b[38;5;21;01maxes\u001b[39;00m \u001b[38;5;28;01mas\u001b[39;00m \u001b[38;5;21;01mmaxes\u001b[39;00m\n",
      "\u001b[0;31mImportError\u001b[0m: cannot import name 'docstring' from 'matplotlib' (/home/mathieu/.local/lib/python3.10/site-packages/matplotlib/__init__.py)"
     ]
    }
   ],
   "source": [
    "# Imports\n",
    "\n",
    "import kagglehub\n",
    "import pandas as pd\n",
    "import opencc\n",
    "import numpy as np\n",
    "import os\n",
    "import string\n",
    "import matplotlib.pyplot as plt"
   ]
  },
  {
   "cell_type": "markdown",
   "metadata": {},
   "source": []
  },
  {
   "cell_type": "markdown",
   "metadata": {},
   "source": []
  },
  {
   "cell_type": "code",
   "execution_count": null,
   "metadata": {},
   "outputs": [],
   "source": [
    "#Function that takes a sentence and return true if its in simplified chinese, false otherwise\n",
    "\n",
    "\n",
    "simplified_converter = opencc.OpenCC('t2s')  \n",
    "traditional_converter = opencc.OpenCC('s2t') \n",
    "\n",
    "def isSimplified(sentence):\n",
    "\n",
    "    if not isinstance(sentence, str):\n",
    "        return False \n",
    "     \n",
    "    simplified = simplified_converter.convert(sentence)\n",
    "    traditional = traditional_converter.convert(sentence)\n",
    "\n",
    "    \n",
    "    if sentence == simplified and sentence != traditional:\n",
    "        return True\n",
    "    else :\n",
    "        return False"
   ]
  },
  {
   "cell_type": "code",
   "execution_count": null,
   "metadata": {},
   "outputs": [],
   "source": [
    "# Dataset from Kaggle\n",
    "path = kagglehub.dataset_download(\"ceshine/yet-another-chinese-news-dataset\")\n",
    "\n",
    "print(\"Path to dataset files:\", path)"
   ]
  },
  {
   "cell_type": "code",
   "execution_count": null,
   "metadata": {},
   "outputs": [
    {
     "name": "stdout",
     "output_type": "stream",
     "text": [
      "Total number of articles : 142663\n",
      "Total Simplified Rows: 37182\n",
      "\n",
      "Total Traditional Rows: 105481\n"
     ]
    }
   ],
   "source": [
    "\n",
    "# Read the input CSV\n",
    "df = pd.read_csv(\"news_collection.csv\")\n",
    "print(\"Total number of articles : \" + str(df.shape[0]))\n",
    "\n",
    "# Initialize empty DataFrames with the same columns as the original DataFrame\n",
    "dfTrad = pd.DataFrame(columns=df.columns)\n",
    "dfSimp = pd.DataFrame(columns=df.columns)\n",
    "\n",
    "\n",
    "# Lists to store rows\n",
    "simp_rows = []\n",
    "trad_rows = []\n",
    "\n",
    "# Iterate through rows of the DataFrame\n",
    "for index, row in df.iterrows():\n",
    "    if isSimplified(row['desc']):\n",
    "        simp_rows.append(row.to_dict())\n",
    "    else:\n",
    "        trad_rows.append(row.to_dict()) \n",
    "\n",
    "\n",
    "dfSimp = pd.DataFrame(simp_rows)\n",
    "dfTrad = pd.DataFrame(trad_rows)\n",
    "\n",
    "\n",
    "print(f\"Total Simplified Rows: {len(dfSimp)}\\n\")\n",
    "print(f\"Total Traditional Rows: {len(dfTrad)}\")\n"
   ]
  },
  {
   "cell_type": "markdown",
   "metadata": {},
   "source": [
    "### Traditional VS simplified\n",
    "See if the most used characters are the same in simplified and traditional articles"
   ]
  },
  {
   "cell_type": "code",
   "execution_count": 27,
   "metadata": {},
   "outputs": [],
   "source": [
    "dicS = {}\n",
    "dicT = {}\n",
    "\n",
    "\n",
    "\n",
    "# All the character we want to remove from the result\n",
    "keys_to_remove = [\n",
    "    \"，\", \"。\",\"0\", \"1\", \"2\", \"3\", \"4\", \"5\", \"6\", \"7\", \"8\", \"9\", \"10\", \" \",\n",
    "    \"「\", \"」\", \"《\", \"》\"\n",
    "]\n",
    "keys_to_remove.extend(list(string.ascii_lowercase)) \n",
    "keys_to_remove.extend(list(string.ascii_uppercase)) \n",
    "\n",
    "\n",
    "for index, row in dfSimp.iterrows():\n",
    "    desc = row[\"desc\"]\n",
    "    if isinstance(desc, str): \n",
    "        for i in desc:\n",
    "            if i in dicS:  \n",
    "                dicS[i] += 1 \n",
    "            else:\n",
    "                dicS[i] = 1  \n",
    "\n",
    "\n",
    "for index, row in dfTrad.iterrows():\n",
    "    desc = row[\"desc\"]\n",
    "    if isinstance(desc, str):  \n",
    "        for i in desc:\n",
    "            if i in dicT:  \n",
    "                dicT[i] += 1 \n",
    "            else:\n",
    "                dicT[i] = 1  \n",
    "\n",
    "\n",
    "sorted_dicS = dict(sorted(dicS.items(), key=lambda item: item[1], reverse=True))\n",
    "sorted_dicT = dict(sorted(dicT.items(), key=lambda item: item[1], reverse=True))\n",
    "\n",
    "\n",
    "for key in keys_to_remove:\n",
    "    if key in sorted_dicS:\n",
    "        del sorted_dicS[key]\n",
    "    if key in sorted_dicT:\n",
    "        del sorted_dicT[key]\n",
    "\n",
    "\n"
   ]
  },
  {
   "cell_type": "code",
   "execution_count": null,
   "metadata": {},
   "outputs": [
    {
     "name": "stdout",
     "output_type": "stream",
     "text": [
      "Number of characters use in simplified texts : 4969\n",
      "Number of characters use in traditional texts : 7456\n",
      "Ten most used characters in both dictionnaries\n",
      "Simplified:\n",
      "的: 86298\n",
      "国: 62658\n",
      "中: 37978\n",
      "在: 33361\n",
      "一: 28880\n",
      "美: 26058\n",
      "人: 24516\n",
      "日: 18914\n",
      "大: 17742\n",
      "会: 17543\n",
      "年: 17497\n",
      "为: 17363\n",
      "是: 17207\n",
      "有: 16663\n",
      "“: 15915\n",
      "”: 15672\n",
      "不: 14823\n",
      "对: 14800\n",
      "和: 14410\n",
      "了: 13877\n",
      "Traditional:\n",
      "的: 180610\n",
      "國: 127572\n",
      "中: 77312\n",
      "在: 75597\n",
      "人: 69322\n",
      "日: 66828\n",
      "台: 66740\n",
      "會: 65682\n",
      "一: 64997\n",
      "是: 57843\n",
      "今: 56767\n",
      "不: 56252\n",
      ",: 53991\n",
      "大: 53559\n",
      "、: 51908\n",
      "有: 51682\n",
      "天: 51440\n",
      "民: 50671\n",
      "年: 49160\n",
      "長: 45332\n"
     ]
    }
   ],
   "source": [
    "print(\"Number of characters use in simplified texts : \" + str(len(sorted_dicS)))\n",
    "print(\"Number of characters use in traditional texts : \" + str(len(sorted_dicT)))\n",
    "\n",
    "\n",
    "print(\"Ten most used characters in both dictionnaries\")\n",
    "print(\"Simplified:\")\n",
    "for i, (char, freq) in enumerate(sorted_dicS.items()):\n",
    "    if i < 10:  \n",
    "        print(f\"{char}: {freq}\")\n",
    "\n",
    "print(\"Traditional:\")\n",
    "for i, (char, freq) in enumerate(sorted_dicT.items()):\n",
    "    if i < 10:  \n",
    "        print(f\"{char}: {freq}\")\n"
   ]
  },
  {
   "cell_type": "code",
   "execution_count": 28,
   "metadata": {},
   "outputs": [
    {
     "name": "stdout",
     "output_type": "stream",
     "text": [
      "2982595\n",
      "9007230\n"
     ]
    }
   ],
   "source": [
    "# Replace the values by the percentage of use\n",
    "\n",
    "# Total characters used\n",
    "print(sum(sorted_dicS.values()))\n",
    "print(sum(sorted_dicT.values()))\n",
    "\n",
    "\n",
    "for i in sorted_dicS.keys() :\n",
    "    sorted_dicS[i] = sorted_dicS[i]/sum(sorted_dicS.values())\n",
    "\n",
    "for i in sorted_dicT.keys() :\n",
    "    sorted_dicT[i] = sorted_dicT[i]/sum(sorted_dicT.values())\n",
    "\n",
    "\n"
   ]
  },
  {
   "cell_type": "code",
   "execution_count": null,
   "metadata": {},
   "outputs": [],
   "source": [
    "print(\"Simplified:\")\n",
    "for i, (char, freq) in enumerate(sorted_dicS.items()):\n",
    "    if i < 10:\n",
    "        print(f\"{char}: {freq}\")\n",
    "\n",
    "print(\"Traditional:\")\n",
    "for i, (char, freq) in enumerate(sorted_dicT.items()):\n",
    "    if i < 10: \n",
    "        print(f\"{char}: {freq}\")"
   ]
  },
  {
   "cell_type": "code",
   "execution_count": 34,
   "metadata": {},
   "outputs": [
    {
     "name": "stdout",
     "output_type": "stream",
     "text": [
      "{'的': 0.028933864638008178, '国': 0.02163383084471298, '中': 0.01340255386175294, '在': 0.011933134681434695, '一': 0.010455055282346568, '美': 0.009533112063545054, '人': 0.009055308869546218, '日': 0.007049975757135214, '大': 0.006660079631947119, '会': 0.006629531217849162}\n",
      "{'的': 0.020051669603196542, '國': 0.014453097528860568, '中': 0.008887409253672587, '在': 0.008768187708314109, '人': 0.008111499190090549, '日': 0.007883619467642107, '台': 0.007935801040778014, '會': 0.007872472630383374, '一': 0.007852186438442713, '是': 0.007043227558890751}\n"
     ]
    },
    {
     "ename": "AttributeError",
     "evalue": "module 'matplotlib' has no attribute 'plot'",
     "output_type": "error",
     "traceback": [
      "\u001b[0;31m---------------------------------------------------------------------------\u001b[0m",
      "\u001b[0;31mAttributeError\u001b[0m                            Traceback (most recent call last)",
      "Cell \u001b[0;32mIn[34], line 19\u001b[0m\n\u001b[1;32m     16\u001b[0m \u001b[38;5;28mprint\u001b[39m(finalDicS)\n\u001b[1;32m     17\u001b[0m \u001b[38;5;28mprint\u001b[39m(finalDicT)\n\u001b[0;32m---> 19\u001b[0m \u001b[43mplt\u001b[49m\u001b[38;5;241;43m.\u001b[39;49m\u001b[43mplot\u001b[49m(finalDicS\u001b[38;5;241m.\u001b[39mvalues(), finalDicS\u001b[38;5;241m.\u001b[39mkeys())\n",
      "File \u001b[0;32m~/.local/lib/python3.10/site-packages/matplotlib/_api/__init__.py:217\u001b[0m, in \u001b[0;36mcaching_module_getattr.<locals>.__getattr__\u001b[0;34m(name)\u001b[0m\n\u001b[1;32m    215\u001b[0m \u001b[38;5;28;01mif\u001b[39;00m name \u001b[38;5;129;01min\u001b[39;00m props:\n\u001b[1;32m    216\u001b[0m     \u001b[38;5;28;01mreturn\u001b[39;00m props[name]\u001b[38;5;241m.\u001b[39m\u001b[38;5;21m__get__\u001b[39m(instance)\n\u001b[0;32m--> 217\u001b[0m \u001b[38;5;28;01mraise\u001b[39;00m \u001b[38;5;167;01mAttributeError\u001b[39;00m(\n\u001b[1;32m    218\u001b[0m     \u001b[38;5;124mf\u001b[39m\u001b[38;5;124m\"\u001b[39m\u001b[38;5;124mmodule \u001b[39m\u001b[38;5;132;01m{\u001b[39;00m\u001b[38;5;28mcls\u001b[39m\u001b[38;5;241m.\u001b[39m\u001b[38;5;18m__module__\u001b[39m\u001b[38;5;132;01m!r}\u001b[39;00m\u001b[38;5;124m has no attribute \u001b[39m\u001b[38;5;132;01m{\u001b[39;00mname\u001b[38;5;132;01m!r}\u001b[39;00m\u001b[38;5;124m\"\u001b[39m)\n",
      "\u001b[0;31mAttributeError\u001b[0m: module 'matplotlib' has no attribute 'plot'"
     ]
    }
   ],
   "source": [
    "# Select the 25 most used ones\n",
    "\n",
    "finalDicS =  {}\n",
    "finalDicT =  {}\n",
    "\n",
    "for i, (char, freq) in enumerate(sorted_dicS.items()):\n",
    "    if i < 10:\n",
    "        finalDicS[char] =  freq\n",
    "\n",
    "\n",
    "for i, (char, freq) in enumerate(sorted_dicT.items()):\n",
    "    if i < 10:\n",
    "        finalDicT[char] =  freq\n",
    "\n",
    "\n",
    "print(finalDicS)\n",
    "print(finalDicT)\n",
    "\n",
    "plt.plot(finalDicS.values(), finalDicS.keys())\n"
   ]
  }
 ],
 "metadata": {
  "kernelspec": {
   "display_name": "Python 3",
   "language": "python",
   "name": "python3"
  },
  "language_info": {
   "codemirror_mode": {
    "name": "ipython",
    "version": 3
   },
   "file_extension": ".py",
   "mimetype": "text/x-python",
   "name": "python",
   "nbconvert_exporter": "python",
   "pygments_lexer": "ipython3",
   "version": "3.10.12"
  }
 },
 "nbformat": 4,
 "nbformat_minor": 2
}
